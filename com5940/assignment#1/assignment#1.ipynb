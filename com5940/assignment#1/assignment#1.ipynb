{
 "cells": [
  {
   "cell_type": "code",
   "execution_count": 1,
   "metadata": {},
   "outputs": [
    {
     "name": "stdout",
     "output_type": "stream",
     "text": [
      "Requirement already satisfied: PyMySQL in c:\\programdata\\anaconda3\\lib\\site-packages (0.9.3)\n"
     ]
    }
   ],
   "source": [
    "!pip install PyMySQL"
   ]
  },
  {
   "cell_type": "code",
   "execution_count": 12,
   "metadata": {},
   "outputs": [],
   "source": [
    "import pymysql.cursors\n",
    "connection = pymysql.connect(host=\"localhost\", \n",
    "                     user=\"root\",   \n",
    "                     passwd=\"root\", \n",
    "                     db=\"movie_data\",   \n",
    "                     charset='utf8mb4',\n",
    "                     cursorclass=pymysql.cursors.DictCursor)"
   ]
  },
  {
   "cell_type": "code",
   "execution_count": 13,
   "metadata": {},
   "outputs": [
    {
     "name": "stdout",
     "output_type": "stream",
     "text": [
      "\n",
      "\n",
      "[{'category': 'Action', 'amount': 1, 'movie_data': 'Kubo and the Two Strings', 'rating': '7.8', 'average_rating': Decimal('7.8')}, {'category': 'Adventure', 'amount': 21, 'movie_data': 'Missing Link,Isle of Dogs,Early Man,Moomins and the Winter Wonderland,Kubo and the Two Strings,Shaun the Sheep Movie,The Boxtrolls,ParaNorman,The Pirates! Band of Misfits,The Sandman and the Lost Sand of Dreams,Fantastic Mr. Fox,A Town Called Panic,Wallace & Gromit: The Curse of the Were-Rabbit,The Legend of the Sky Kingdom,Chicken Run,James And The Giant Peach,Gumby: The Movie,The Secret Adventures of Tom Thumb,The Adventures of Mark Twain,Hansel and Gretel,The Story of the Fox', 'rating': '6.7, 7.9, 6.1, 5.5, 7.8, 7.3, 6.8, 7.0, 6.7, 5.8, 7.8, 7.5, 7.4, 6.3, 7.0, 6.7, 6.3, 7.2, 7.4, 6.6, 7.8', 'average_rating': Decimal('6.9')}, {'category': 'Biography', 'amount': 1, 'movie_data': 'The Miracle Maker', 'rating': '7.0', 'average_rating': Decimal('7.0')}, {'category': 'Comedy', 'amount': 26, 'movie_data': 'Missing Link,Isle of Dogs,Early Man,Moomins and the Winter Wonderland,My Life as a Zucchini,Shaun the Sheep Movie,The Boxtrolls,Frankenweenie,ParaNorman,The Pirates! Band of Misfits,Jackboots on Whitehall,The Sandman and the Lost Sand of Dreams,Fantastic Mr. Fox,A Town Called Panic,Mary and Max,Edison & Leo,Tengers,Live Freaky Die Freaky,Disaster!,Wallace & Gromit: The Curse of the Were-Rabbit,Chicken Run,Gumby: The Movie,The Pinchcliffe Grand Prix,Mad Monster Party?,The Story of the Fox,Anomalisa', 'rating': '6.7, 7.9, 6.1, 5.5, 7.8, 7.3, 6.8, 6.9, 7.0, 6.7, 5.2, 5.8, 7.8, 7.5, 8.1, 5.5, 7.3, 5.0, 5.0, 7.4, 7.0, 6.3, 8.5, 6.7, 7.8, 7.3', 'average_rating': Decimal('6.8')}, {'category': 'Drama', 'amount': 10, 'movie_data': 'My Life as a Zucchini,Mary and Max,Coraline,$9.99,Tengers,Corpse Bride,The Miracle Maker,The Cat Who Walked by Herself,Anomalisa,A Trip to the Moon', 'rating': '7.8, 8.1, 7.7, 6.7, 7.3, 7.3, 7.0, 7.0, 7.3, 8.2', 'average_rating': Decimal('7.4')}, {'category': 'Family', 'amount': 13, 'movie_data': \"Dyrene i Hakkebakkeskogen,Frankenweenie,Toys in the Attic,Corpse Bride,The Legend of the Sky Kingdom,Prop and Berta,James And The Giant Peach,The Nightmare Before Christmas,The Adventures of Mark Twain,The Pinchcliffe Grand Prix,Mad Monster Party?,Hansel and Gretel,The Emperor's Nightingale\", 'rating': '6.9, 6.9, 6.3, 7.3, 6.3, 5.7, 6.7, 8.0, 7.4, 8.5, 6.7, 6.6, 6.9', 'average_rating': Decimal('6.9')}, {'category': 'Fantasy', 'amount': 10, 'movie_data': \"Toys in the Attic,Coraline,Edison & Leo,$9.99,Blood Tea and Red String,The Nightmare Before Christmas,The Pied Piper,Old Czech Legends,The Emperor's Nightingale,A Trip to the Moon\", 'rating': '6.3, 7.7, 5.5, 6.7, 7.1, 8.0, 7.9, 6.9, 6.9, 8.2', 'average_rating': Decimal('7.1')}, {'category': 'History', 'amount': 1, 'movie_data': 'Old Czech Legends', 'rating': '6.9', 'average_rating': Decimal('6.9')}, {'category': 'Horror', 'amount': 1, 'movie_data': 'The Pied Piper', 'rating': '7.9', 'average_rating': Decimal('7.9')}, {'category': 'Musical', 'amount': 2, 'movie_data': 'Dyrene i Hakkebakkeskogen,Live Freaky Die Freaky', 'rating': '6.9, 5.0', 'average_rating': Decimal('6.0')}, {'category': 'Sci-Fi', 'amount': 4, 'movie_data': 'Jackboots on Whitehall,Disaster!,The Secret Adventures of Tom Thumb,Fantastic Planet', 'rating': '5.2, 5.0, 7.2, 7.8', 'average_rating': Decimal('6.3')}]\n",
      "\n",
      "\n"
     ]
    }
   ],
   "source": [
    "with connection.cursor() as cursor:\n",
    "        sql = \"SELECT * FROM category_detail\"\n",
    "        cursor.execute(sql)\n",
    "        result = cursor.fetchall()\n",
    "        dataset = []\n",
    "        temp = {}\n",
    "        i = 0\n",
    "        for row in result:\n",
    "            temp[i] = row\n",
    "            dataset.append(temp[i])\n",
    "            i = i + 1\n",
    "        print('\\n')\n",
    "        print(dataset)\n",
    "        print('\\n')"
   ]
  },
  {
   "cell_type": "code",
   "execution_count": 14,
   "metadata": {},
   "outputs": [
    {
     "name": "stdout",
     "output_type": "stream",
     "text": [
      "Requirement already satisfied: requests in c:\\programdata\\anaconda3\\lib\\site-packages (2.22.0)\n",
      "Requirement already satisfied: chardet<3.1.0,>=3.0.2 in c:\\programdata\\anaconda3\\lib\\site-packages (from requests) (3.0.4)\n",
      "Requirement already satisfied: certifi>=2017.4.17 in c:\\programdata\\anaconda3\\lib\\site-packages (from requests) (2019.9.11)\n",
      "Requirement already satisfied: urllib3!=1.25.0,!=1.25.1,<1.26,>=1.21.1 in c:\\programdata\\anaconda3\\lib\\site-packages (from requests) (1.24.2)\n",
      "Requirement already satisfied: idna<2.9,>=2.5 in c:\\programdata\\anaconda3\\lib\\site-packages (from requests) (2.8)\n"
     ]
    }
   ],
   "source": [
    "!pip install requests"
   ]
  },
  {
   "cell_type": "code",
   "execution_count": 40,
   "metadata": {},
   "outputs": [
    {
     "name": "stdout",
     "output_type": "stream",
     "text": [
      "[{'category': 'Adventure', 'movie data': ['reckTMMoVxmXK8ca4', 'recfucbgZywiECzMj', 'recn6uG90YivlfAXP', 'recuJeHIH0We182Xh', 'recpjxbU7AkNZPftU', 'recH45niSqxy4zcT8', 'recrRRGIgON92diJp', 'recZTdH7XwmQSA3y9', 'rec8oWUZOkVIYzUus', 'recTXrJx8mn9Thomp', 'reca1ZvxN6YuudW8e', 'recK9Lqa83ub2h566', 'recmrKnurvtvWHlMA', 'recgPHzwlJL4eitif', 'recrsY6ufmy1HahSz', 'reczI2P4534v9YjbV', 'recznamjbUzO9MnAc', 'rech26fB2CvPaSknc', 'recinCK8YQOCylsoQ', 'recvfJPALXjZ3tFbn', 'recyHqchOhDOEtK6L'], 'amount': 21, 'rating': [6.7, 7.9, 6.1, 5.5, 7.8, 7.3, 6.8, 7, 6.7, 5.8, 7.8, 7.5, 7.4, 6.3, 7, 6.7, 6.3, 7.2, 7.4, 6.6, 7.8], 'average_rating': 6.933333333333333}, {'category': 'Comedy', 'movie data': ['reckTMMoVxmXK8ca4', 'recfucbgZywiECzMj', 'recn6uG90YivlfAXP', 'recuJeHIH0We182Xh', 'rec138Qod34QU7LBG', 'recH45niSqxy4zcT8', 'recrRRGIgON92diJp', 'rece1GdiSvPqMmZms', 'recZTdH7XwmQSA3y9', 'rec8oWUZOkVIYzUus', 'reclixAkTfnKrQCQI', 'recTXrJx8mn9Thomp', 'reca1ZvxN6YuudW8e', 'recK9Lqa83ub2h566', 'recUrSuoVHSP7k3fM', 'recVZEE4vZHxCerkI', 'recDcaVWutTDLMg3S', 'rec2aYGbdm1E4rZo2', 'recTlIjp9kykrcq6f', 'recmrKnurvtvWHlMA', 'recrsY6ufmy1HahSz', 'recznamjbUzO9MnAc', 'reckZK7tUs3uK6SQE', 'recZDwBn0Rc2yHZ5M', 'recyHqchOhDOEtK6L', 'recGIXTMz2fwqnXAk'], 'amount': 26, 'rating': [6.7, 7.9, 6.1, 5.5, 7.8, 7.3, 6.8, 6.9, 7, 6.7, 5.2, 5.8, 7.8, 7.5, 8.1, 5.5, 7.3, 5, 5, 7.4, 7, 6.3, 8.5, 6.7, 7.8, 7.3], 'average_rating': 6.803846153846154}, {'category': 'Family', 'movie data': ['recYkLpB7qcu3dZtK', 'rece1GdiSvPqMmZms', 'recKzULnAyR1LIsqn', 'rec7uGJCRCBOszLEz', 'recgPHzwlJL4eitif', 'recLaHjaX1zMJYzHF', 'reczI2P4534v9YjbV', 'recXsrR6oVTQyDMYq', 'recinCK8YQOCylsoQ', 'reckZK7tUs3uK6SQE', 'recZDwBn0Rc2yHZ5M', 'recvfJPALXjZ3tFbn', 'recHnm92Dm1eHz507'], 'amount': 13, 'rating': [6.9, 6.9, 6.3, 7.3, 6.3, 5.7, 6.7, 8, 7.4, 8.5, 6.7, 6.6, 6.9], 'average_rating': 6.938461538461539}, {'category': 'Musical', 'movie data': ['recYkLpB7qcu3dZtK', 'rec2aYGbdm1E4rZo2'], 'amount': 2, 'rating': [6.9, 5], 'average_rating': 5.95}, {'category': 'Drama', 'movie data': ['rec138Qod34QU7LBG', 'recUrSuoVHSP7k3fM', 'reciaC3auOP63ZMGk', 'receXS4sGQ1IT8hfi', 'recDcaVWutTDLMg3S', 'rec7uGJCRCBOszLEz', 'rec7Wta5nnnAagYQf', 'recdSCw7SGnZTHgUR', 'recGIXTMz2fwqnXAk', 'recOshnEd4hMH6bjH'], 'amount': 10, 'rating': [7.8, 8.1, 7.7, 6.7, 7.3, 7.3, 7, 7, 7.3, 8.2], 'average_rating': 7.4399999999999995}, {'category': 'Action', 'movie data': ['recpjxbU7AkNZPftU'], 'amount': 1, 'rating': [7.8], 'average_rating': 7.8}, {'category': 'Sci-Fi', 'movie data': ['reclixAkTfnKrQCQI', 'recTlIjp9kykrcq6f', 'rech26fB2CvPaSknc', 'rec08TQLZq6oUbFuu'], 'amount': 4, 'rating': [5.2, 5, 7.2, 7.8], 'average_rating': 6.3}, {'category': 'Fantasy', 'movie data': ['recKzULnAyR1LIsqn', 'reciaC3auOP63ZMGk', 'recVZEE4vZHxCerkI', 'receXS4sGQ1IT8hfi', 'recDKGsJt4IM9PD9K', 'recXsrR6oVTQyDMYq', 'recZfrvXR5sBOFWQk', 'recYydR0ZgeYVd9tx', 'recHnm92Dm1eHz507', 'recOshnEd4hMH6bjH'], 'amount': 10, 'rating': [6.3, 7.7, 5.5, 6.7, 7.1, 8, 7.9, 6.9, 6.9, 8.2], 'average_rating': 7.119999999999999}, {'category': 'Biography', 'movie data': ['rec7Wta5nnnAagYQf'], 'amount': 1, 'rating': [7], 'average_rating': 7}, {'category': 'Horror', 'movie data': ['recZfrvXR5sBOFWQk'], 'amount': 1, 'rating': [7.9], 'average_rating': 7.9}, {'category': 'History', 'movie data': ['recYydR0ZgeYVd9tx'], 'amount': 1, 'rating': [6.9], 'average_rating': 6.9}]\n",
      "\n",
      "\n",
      "['Adventure', 'Comedy', 'Family', 'Musical', 'Drama', 'Action', 'Sci-Fi', 'Fantasy', 'Biography', 'Horror', 'History']\n"
     ]
    }
   ],
   "source": [
    "import requests\n",
    "\n",
    "headers = {\n",
    "'Authorization': 'Bearer <API Key>',\n",
    "}\n",
    "\n",
    "params = (\n",
    "('view', 'Grid view'),\n",
    ")\n",
    "\n",
    "r = requests.get('https://api.airtable.com/v0/app4f5MestpX8G4ap/category_detail?api_key=keyg8xnhMApLysSt4', headers=headers, params=params)\n",
    "dict = r.json()\n",
    "dataset = []\n",
    "category = []\n",
    "amount = []\n",
    "average_rating = []\n",
    "for i in dict['records']:\n",
    "     dict = i['fields']\n",
    "     dataset.append(dict)\n",
    "print(dataset)\n",
    "print('\\n')\n",
    "for dicts in dataset:\n",
    "    category.append(dicts.get('category'))\n",
    "print(category)"
   ]
  },
  {
   "cell_type": "code",
   "execution_count": null,
   "metadata": {},
   "outputs": [],
   "source": []
  }
 ],
 "metadata": {
  "kernelspec": {
   "display_name": "Python 3",
   "language": "python",
   "name": "python3"
  },
  "language_info": {
   "codemirror_mode": {
    "name": "ipython",
    "version": 3
   },
   "file_extension": ".py",
   "mimetype": "text/x-python",
   "name": "python",
   "nbconvert_exporter": "python",
   "pygments_lexer": "ipython3",
   "version": "3.7.4"
  }
 },
 "nbformat": 4,
 "nbformat_minor": 2
}
